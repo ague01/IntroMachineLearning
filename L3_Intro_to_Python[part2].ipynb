{
 "cells": [
  {
   "cell_type": "markdown",
   "metadata": {},
   "source": [
    "# Notebook for some fundamentals of Python :) "
   ]
  },
  {
   "cell_type": "markdown",
   "metadata": {},
   "source": [
    "## Random numbers "
   ]
  },
  {
   "cell_type": "code",
   "execution_count": null,
   "metadata": {},
   "outputs": [],
   "source": [
    "import random\n",
    "#random number in [0,1)\n",
    "print(random.random())\n",
    "#random real number in [2,6]\n",
    "print(random.uniform(2,6))\n",
    "#random integer number in [2,6]\n",
    "print(random.randint(2,6))"
   ]
  },
  {
   "cell_type": "code",
   "execution_count": null,
   "metadata": {},
   "outputs": [],
   "source": [
    "#one coin flip\n",
    "print(random.randint(0,1))\n",
    "#coin flip n times\n",
    "#fair coin \n",
    "n=100\n",
    "l = random.choices(range(0,2), k=n)\n",
    "#unfair coin \n",
    "#l = random.choices(range(0,2), [0.2,0.8], k=n)\n",
    "print(sum(l)/n)"
   ]
  },
  {
   "cell_type": "code",
   "execution_count": null,
   "metadata": {},
   "outputs": [],
   "source": [
    "#die rolling one time\n",
    "print(random.randint(1,6))\n",
    "\n",
    "#die rolling n times\n",
    "n=10000\n",
    "#fair die\n",
    "l = random.choices(range(1,7), k=n)\n",
    "#unfair die\n",
    "#l = random.choices(range(1,7),weights=[0.05,0.05,0.4,0.4,0.05,0.05], k=n)\n",
    "#print(l)\n",
    "n_3 = 0\n",
    "for v in l:\n",
    "    if(v==3):\n",
    "        n_3 += 1 \n",
    "print(n_3/n*100) #it will be around 16%\n",
    "#using list comprehensions\n",
    "n_3 = sum([v/3 for v in l if(v==3)])\n",
    "print(n_3/n*100) #it will be around 16%\n"
   ]
  },
  {
   "cell_type": "markdown",
   "metadata": {},
   "source": [
    "## Arrays in numpy"
   ]
  },
  {
   "cell_type": "code",
   "execution_count": 8,
   "metadata": {},
   "outputs": [
    {
     "name": "stdout",
     "output_type": "stream",
     "text": [
      "[1 2 3]\n",
      "2\n",
      "(3,)\n",
      "[[1 2 3]]\n",
      "-----\n",
      "[[1.]\n",
      " [1.]\n",
      " [1.]]\n",
      "(3, 1)\n",
      "[[3.]\n",
      " [3.]\n",
      " [3.]]\n",
      "-----\n",
      "[[1. 1. 1.]\n",
      " [1. 1. 1.]]\n",
      "-----\n",
      "[[1. 0. 0. 0.]\n",
      " [0. 1. 0. 0.]\n",
      " [0. 0. 1. 0.]\n",
      " [0. 0. 0. 1.]]\n",
      "-----\n",
      "0.9808432828620933\n",
      "-----\n",
      "1\n",
      "-----\n",
      "[[5 8 5 7]\n",
      " [8 5 6 3]]\n",
      "8\n",
      "[6, 8, 5, 3]\n"
     ]
    }
   ],
   "source": [
    "import numpy as np\n",
    "#create vector given values in it\n",
    "a = np.array([1, 2, 3])\n",
    "print(a)\n",
    "print(a[1])\n",
    "print(a.shape)\n",
    "print(np.matrix(a))\n",
    "print(\"-----\")\n",
    "#create matrix of 0's of given size\n",
    "b = np.ones((3,1))\n",
    "print(b)\n",
    "print(b.shape)\n",
    "b = b*3\n",
    "print(b)\n",
    "print(\"-----\")\n",
    "#create matrix of 1's of given size\n",
    "c = np.ones((2,3))\n",
    "print(c)\n",
    "print(\"-----\")\n",
    "#create identity matrix of size n\n",
    "d = np.eye(4)\n",
    "print(d)\n",
    "print(\"-----\")\n",
    "#random number in [0,1)\n",
    "print(np.random.random())\n",
    "print(\"-----\")\n",
    "#random integer number in [1,6]\n",
    "print(np.random.randint(1,6))\n",
    "print(\"-----\")\n",
    "#create random matrix (values in [0,9]) of given size 2x4\n",
    "e = np.random.randint(0,9,(2,4))\n",
    "print(e)\n",
    "print(e[0][1])\n",
    "#create random list (values in [0,9]) using numpy\n",
    "l = np.random.randint(0,9,(1,4)).tolist()[0]\n",
    "print(l)"
   ]
  },
  {
   "cell_type": "markdown",
   "metadata": {},
   "source": [
    "## Arrays indexing in numpy"
   ]
  },
  {
   "cell_type": "code",
   "execution_count": null,
   "metadata": {},
   "outputs": [],
   "source": [
    "print(e[:1,:])\n",
    "print(e[:1])"
   ]
  },
  {
   "cell_type": "code",
   "execution_count": null,
   "metadata": {},
   "outputs": [],
   "source": [
    "print(e[:,0:4])"
   ]
  },
  {
   "cell_type": "code",
   "execution_count": null,
   "metadata": {},
   "outputs": [],
   "source": [
    "print(e[:,1:1])"
   ]
  },
  {
   "cell_type": "code",
   "execution_count": null,
   "metadata": {},
   "outputs": [],
   "source": [
    "print(e[:,1:3])"
   ]
  },
  {
   "cell_type": "code",
   "execution_count": null,
   "metadata": {},
   "outputs": [],
   "source": [
    "print(e[:,1:-1])"
   ]
  },
  {
   "cell_type": "code",
   "execution_count": null,
   "metadata": {},
   "outputs": [],
   "source": [
    "print(e[0,1:])"
   ]
  },
  {
   "cell_type": "code",
   "execution_count": null,
   "metadata": {},
   "outputs": [],
   "source": [
    "print(e[0,0:])"
   ]
  },
  {
   "cell_type": "markdown",
   "metadata": {},
   "source": [
    "## Some sorting algorithm using numpy arrays"
   ]
  },
  {
   "cell_type": "code",
   "execution_count": null,
   "metadata": {},
   "outputs": [],
   "source": [
    "#selection sort \n",
    "\n",
    "def selection_sort(x):\n",
    "    for i in range(len(x)):\n",
    "        swap = i + np.argmin(x[i:])\n",
    "        #with temporary variable \"temp\"\n",
    "        #temp = x[i]\n",
    "        #x[i] = x[swap]\n",
    "        #x[swap] = temp\n",
    "        #without temporary variable \"temp\", but using tuples (super Python's skills :)\n",
    "        (x[i], x[swap]) = (x[swap], x[i])\n",
    "    return x\n",
    "\n",
    "x = np.array([2, 1, 4, 3, 5])\n",
    "print(x)\n",
    "print(selection_sort(x))"
   ]
  },
  {
   "cell_type": "code",
   "execution_count": null,
   "metadata": {},
   "outputs": [],
   "source": [
    "#bogo sort :)) \n",
    "#homework: try to implement this function using another function that check if x is sorted (without np.any)\n",
    "\n",
    "def bogosort(x):\n",
    "    while np.any(x[:-1] > x[1:]): \n",
    "        np.random.shuffle(x)\n",
    "    return x\n",
    "\n",
    "x = np.array([2, 1, 4, 3, 5])\n",
    "#print(x[:-1])\n",
    "#print(x[1:])\n",
    "#print(x[:-1] > x[1:])\n",
    "print(x)\n",
    "print(bogosort(x))"
   ]
  },
  {
   "cell_type": "markdown",
   "metadata": {},
   "source": [
    "## Reading from file"
   ]
  },
  {
   "cell_type": "code",
   "execution_count": null,
   "metadata": {},
   "outputs": [],
   "source": [
    "file_name = \"data/pima-indians-diabetes.csv\"\n",
    "infile = open(file_name,'r')\n",
    "n_lines = 0\n",
    "for line in infile:\n",
    "    if n_lines <=4:\n",
    "        print(line)\n",
    "    n_lines += 1\n",
    "print(\"Number of lines in file:\", n_lines)\n",
    "#print(type(line))\n",
    "infile.close()"
   ]
  },
  {
   "cell_type": "code",
   "execution_count": null,
   "metadata": {},
   "outputs": [],
   "source": [
    "file_name = \"data/pima-indians-diabetes.csv\"\n",
    "infile = open(file_name,'r')\n",
    "n_lines = 0\n",
    "for line in infile:\n",
    "    if n_lines <=4:\n",
    "        print(\"Line:\\n\"+line)\n",
    "        v = line.split(',')\n",
    "        print(\"List: \"+str(v))\n",
    "        print(\"Elements in list:\")\n",
    "        for i in range(len(v)):\n",
    "            print(v[i].strip())\n",
    "        print(\"\\n\")\n",
    "    n_lines += 1\n",
    "infile.close()"
   ]
  },
  {
   "cell_type": "code",
   "execution_count": null,
   "metadata": {},
   "outputs": [],
   "source": [
    "import csv\n",
    "\n",
    "filename = \"data/pima-indians-diabetes.csv\"\n",
    "\n",
    "lines = csv.reader(open(filename, 'r'))\n",
    "\n",
    "for line in lines:\n",
    "    print(line)"
   ]
  },
  {
   "cell_type": "markdown",
   "metadata": {},
   "source": [
    "## Writing to file"
   ]
  },
  {
   "cell_type": "code",
   "execution_count": null,
   "metadata": {},
   "outputs": [],
   "source": [
    "infile_name = \"data/pima-indians-diabetes.csv\"\n",
    "infile = open(file_name,'r')\n",
    "line_c = 0\n",
    "outfile_name = \"prova.txt\"\n",
    "outfile = open(outfile_name,'w')\n",
    "for line in infile:\n",
    "    if line_c <=4:\n",
    "        outfile.write(\"Line:\\n\"+line+\"\\n\")\n",
    "        v = line.split(',')\n",
    "        outfile.write(\"List: \"+str(v)+\"\\n\")\n",
    "        outfile.write(\"Elements in list:\\n\")\n",
    "        for i in range(len(v)):\n",
    "            outfile.write(v[i].strip()+\"\\n\")\n",
    "        outfile.write(\"\\n\")\n",
    "    line_c += 1\n",
    "infile.close()\n",
    "outfile.close()"
   ]
  }
 ],
 "metadata": {
  "kernelspec": {
   "display_name": "Python 3",
   "language": "python",
   "name": "python3"
  },
  "language_info": {
   "codemirror_mode": {
    "name": "ipython",
    "version": 3
   },
   "file_extension": ".py",
   "mimetype": "text/x-python",
   "name": "python",
   "nbconvert_exporter": "python",
   "pygments_lexer": "ipython3",
   "version": "3.9.0"
  },
  "vscode": {
   "interpreter": {
    "hash": "0adefd29cbbecb23a3d8fb044e733de6bb8739828172c16fdef52f6ea2829ccd"
   }
  }
 },
 "nbformat": 4,
 "nbformat_minor": 2
}
