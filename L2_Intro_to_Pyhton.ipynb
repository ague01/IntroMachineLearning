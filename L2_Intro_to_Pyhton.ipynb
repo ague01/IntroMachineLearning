{
 "cells": [
  {
   "cell_type": "markdown",
   "metadata": {},
   "source": [
    "# Notebook for some fundamentals of Python :) "
   ]
  },
  {
   "attachments": {},
   "cell_type": "markdown",
   "metadata": {},
   "source": [
    "### Comments, Indentation, and Numbers"
   ]
  },
  {
   "cell_type": "code",
   "execution_count": null,
   "metadata": {},
   "outputs": [],
   "source": [
    "# this is an in-line comment\n",
    "x = 30 # this is an in-line comment\n",
    "'''\n",
    "this is a multi-lines comments\n",
    "\n",
    "Happy coding with Pyhton :)\n",
    "\n",
    "'''\n",
    "print(x)"
   ]
  },
  {
   "cell_type": "code",
   "execution_count": null,
   "metadata": {},
   "outputs": [],
   "source": [
    "if x < 50:\n",
    "        x *= 3\n",
    "        print(x)"
   ]
  },
  {
   "cell_type": "code",
   "execution_count": null,
   "metadata": {},
   "outputs": [],
   "source": [
    "if x < 50:\n",
    "    x *= 3\n",
    "print(x)"
   ]
  },
  {
   "cell_type": "code",
   "execution_count": null,
   "metadata": {},
   "outputs": [],
   "source": [
    "x = 5\n",
    "y = 2\n",
    "print(x/y)\n",
    "print(x//y)\n",
    "print(x%y)"
   ]
  },
  {
   "cell_type": "code",
   "execution_count": null,
   "metadata": {},
   "outputs": [],
   "source": [
    "x = 3.\n",
    "y = 2\n",
    "print(x/y)\n",
    "x = 3\n",
    "y = 2.\n",
    "print(x/y)"
   ]
  },
  {
   "cell_type": "markdown",
   "metadata": {},
   "source": [
    "##  If-then-else"
   ]
  },
  {
   "cell_type": "code",
   "execution_count": null,
   "metadata": {},
   "outputs": [],
   "source": [
    "voto = 15\n",
    "if voto > 18:\n",
    "    print(\"voto>18, IntroML superato! :) \")\n",
    "else:\n",
    "    print(\"voto<18, IntroML non superato! :(\")\n",
    "#print(\"Il voto è: \" + str(x))\n",
    "print(\"Il voto è: \" + str(voto))"
   ]
  },
  {
   "cell_type": "code",
   "execution_count": null,
   "metadata": {
    "scrolled": true
   },
   "outputs": [],
   "source": [
    "x = 0.99999\n",
    "if (x > -1.) and (x < 1.):\n",
    "    print(\"x is between -1 and 1 (excluded)\")\n",
    "else:\n",
    "    print(\"x <= -1 or x >= 1\")"
   ]
  },
  {
   "cell_type": "code",
   "execution_count": null,
   "metadata": {},
   "outputs": [],
   "source": [
    "m = \"Intro To ML\"\n",
    "if m != \"ML\":\n",
    "    print(\"value of m: \" + m)\n",
    "else:\n",
    "    print(\"m has value: ML\")"
   ]
  },
  {
   "attachments": {},
   "cell_type": "markdown",
   "metadata": {},
   "source": [
    "### Identity and Membership Operators"
   ]
  },
  {
   "cell_type": "code",
   "execution_count": null,
   "metadata": {},
   "outputs": [],
   "source": [
    "a = [1,2,3]\n",
    "b = [1,2,3]\n",
    "\n",
    "# Identity: is operator verify if a and b points to the same object\n",
    "print(a is b)\n",
    "print(a is not)"
   ]
  },
  {
   "cell_type": "code",
   "execution_count": null,
   "metadata": {},
   "outputs": [],
   "source": [
    "x = 1\n",
    "\n",
    "#Membership: in operator returns True when the object is contained into the list\n",
    "x in a"
   ]
  },
  {
   "cell_type": "markdown",
   "metadata": {},
   "source": [
    "## Lists"
   ]
  },
  {
   "cell_type": "code",
   "execution_count": null,
   "metadata": {},
   "outputs": [],
   "source": [
    "b = [\"I\",\"will\",\"pass\",\"Introduction\",\"To\",\"Machine\",\"Learning\"]\n",
    "print(b[2])"
   ]
  },
  {
   "cell_type": "code",
   "execution_count": null,
   "metadata": {},
   "outputs": [],
   "source": [
    "b = []\n",
    "print(b)\n",
    "# append method adds to the end of the list the given object\n",
    "b.append(\"I\")\n",
    "b.append(\"will\")\n",
    "b.append(\"pass\")\n",
    "b.append(\"Introduction\")\n",
    "b.append(\"To\")\n",
    "b.append(\"Machine\")\n",
    "b.append(\"Learning\")\n",
    "print(b)\n",
    "b.remove(\"will\")\n",
    "print(b)"
   ]
  },
  {
   "cell_type": "code",
   "execution_count": null,
   "metadata": {},
   "outputs": [],
   "source": [
    "# it is possible to have not homogeneous lists\n",
    "b = ['a', 4, 5, 4.6]"
   ]
  },
  {
   "cell_type": "code",
   "execution_count": null,
   "metadata": {},
   "outputs": [],
   "source": [
    "d = [10,9,8,7,6,5,4,3,2,1]\n",
    "print(d[0:20])\n",
    "# the whole list\n",
    "print(d[:])\n",
    "# sublist [1,10[\n",
    "print(d[1:10])\n",
    "# sublist [3,end]\n",
    "print(d[3:])\n",
    "print(d[:7])\n",
    "print(d[:-2])\n",
    "\n",
    "# the whole list with step of 2\n",
    "print(d[::2])\n",
    "\n",
    "# it is possible to assign a list to a sublist\n",
    "d[1:3] = [10,11]"
   ]
  },
  {
   "cell_type": "code",
   "execution_count": null,
   "metadata": {
    "scrolled": false
   },
   "outputs": [],
   "source": [
    "a = [20,2,-6]\n",
    "print(a)\n",
    "dim = len(a)\n",
    "for i in range(dim):\n",
    "    a.remove(a[0])\n",
    "    print(a)"
   ]
  },
  {
   "cell_type": "code",
   "execution_count": null,
   "metadata": {},
   "outputs": [],
   "source": [
    "x = [1,10,100]\n",
    "for elem in x:\n",
    "    print(elem)"
   ]
  },
  {
   "cell_type": "code",
   "execution_count": null,
   "metadata": {},
   "outputs": [],
   "source": [
    "#from platform import python_version\n",
    "#print('Python', python_version())\n",
    "x = 10\n",
    "for t in range(x):\n",
    "    print(t)\n",
    "print(\"Final value of t: \" + str(t))"
   ]
  },
  {
   "attachments": {},
   "cell_type": "markdown",
   "metadata": {},
   "source": [
    "## for loops"
   ]
  },
  {
   "cell_type": "code",
   "execution_count": null,
   "metadata": {},
   "outputs": [],
   "source": [
    "#range function\n",
    "for i in range(10):\n",
    "    #end parameter takes the string to append after the printed one\n",
    "    print(i, end=' ')"
   ]
  },
  {
   "cell_type": "markdown",
   "metadata": {},
   "source": [
    "## Functions"
   ]
  },
  {
   "cell_type": "code",
   "execution_count": null,
   "metadata": {},
   "outputs": [],
   "source": [
    "def f1():\n",
    "    return 1"
   ]
  },
  {
   "cell_type": "code",
   "execution_count": null,
   "metadata": {},
   "outputs": [],
   "source": [
    "def f2():\n",
    "    return 10"
   ]
  },
  {
   "attachments": {},
   "cell_type": "markdown",
   "metadata": {},
   "source": [
    "### Print Function"
   ]
  },
  {
   "cell_type": "code",
   "execution_count": null,
   "metadata": {},
   "outputs": [],
   "source": [
    "print(f1())\n",
    "# Printing using a custom separator\n",
    "print('a', 'v', sep='--')"
   ]
  },
  {
   "cell_type": "code",
   "execution_count": null,
   "metadata": {},
   "outputs": [],
   "source": [
    "def sign(value):\n",
    "    if value > 0:\n",
    "        return 1.\n",
    "    elif value < 0:\n",
    "        return -1.\n",
    "    else:\n",
    "        return 0.\n",
    "\n",
    "print(sign(10.2))\n",
    "print(sign(-0.6))\n",
    "print(sign(0))"
   ]
  },
  {
   "cell_type": "code",
   "execution_count": null,
   "metadata": {},
   "outputs": [],
   "source": [
    "def fibonacci(N):\n",
    "    L = []\n",
    "    a, b = 0, 1\n",
    "    while len(L) < N:\n",
    "        a, b = b, a + b\n",
    "        L.append(a)\n",
    "    return L"
   ]
  },
  {
   "attachments": {},
   "cell_type": "markdown",
   "metadata": {},
   "source": [
    "### Multiple return functions"
   ]
  },
  {
   "cell_type": "code",
   "execution_count": null,
   "metadata": {},
   "outputs": [],
   "source": [
    "# This function returns 3 values\n",
    "def real_imag_conj(val):\n",
    "    return val.real, val.imag, val.conj\n",
    "\n",
    "# Can be invoked as\n",
    "r, i, c = real_imag_conj(12 + 5j)"
   ]
  },
  {
   "cell_type": "markdown",
   "metadata": {},
   "source": [
    "### *args and **kwargs"
   ]
  },
  {
   "cell_type": "markdown",
   "metadata": {},
   "source": [
    "Sometimes you might wish to write a function in which you \n",
    "don't initially know how many arguments the user will pass.\n",
    "In this case, you can use the special form *args and **kwargs to catch all arguments that are passed"
   ]
  },
  {
   "cell_type": "code",
   "execution_count": 1,
   "metadata": {},
   "outputs": [
    {
     "name": "stdout",
     "output_type": "stream",
     "text": [
      "args = (1, 2, 3)\n",
      "kwargs =  {'a': 4, 'b': 5}\n"
     ]
    }
   ],
   "source": [
    "def catch_all(*args, **kwargs):\n",
    "    print(\"args =\", args)\n",
    "    print(\"kwargs = \", kwargs)\n",
    "\n",
    "catch_all(1, 2, 3, a=4, b=5)"
   ]
  },
  {
   "cell_type": "code",
   "execution_count": 2,
   "metadata": {},
   "outputs": [
    {
     "name": "stdout",
     "output_type": "stream",
     "text": [
      "args = ('a',)\n",
      "kwargs =  {'keyword': 2}\n"
     ]
    }
   ],
   "source": [
    "# In this case we use a positional argument (*args) and a keyword argument\n",
    "catch_all('a', keyword=2)"
   ]
  },
  {
   "attachments": {},
   "cell_type": "markdown",
   "metadata": {},
   "source": [
    "### Lambda functions\n",
    "Since functions are objects they can be passed as arguments to functions. Lambda are convenient for short function to pass."
   ]
  },
  {
   "cell_type": "code",
   "execution_count": null,
   "metadata": {},
   "outputs": [],
   "source": [
    "# In this case we define an anonymous function that adds two values\n",
    "add = lambda x, y: x + y\n",
    "add(1, 2)"
   ]
  },
  {
   "cell_type": "code",
   "execution_count": null,
   "metadata": {},
   "outputs": [],
   "source": [
    "# Dictionaries are not orderable: we have to use the sorted function using a defined key to order them\n",
    "data = [{'first':'Guido', 'last':'Van Rossum', 'YOB':1956},\n",
    "        {'first':'Grace', 'last':'Hopper',     'YOB':1906},\n",
    "        {'first':'Alan',  'last':'Turing',     'YOB':1912}]\n",
    "# Sort alphabetically by first name\n",
    "sorted(data, key=lambda item: item['first'])\n"
   ]
  },
  {
   "attachments": {},
   "cell_type": "markdown",
   "metadata": {},
   "source": [
    "### Some functions"
   ]
  },
  {
   "cell_type": "code",
   "execution_count": 3,
   "metadata": {},
   "outputs": [
    {
     "name": "stdout",
     "output_type": "stream",
     "text": [
      "1\n"
     ]
    }
   ],
   "source": [
    "def ricercaSequenziale(lista, k): \n",
    "    n=len(lista) \n",
    "    for i in range(n): \n",
    "        if(lista[i] == k): \n",
    "            return i \n",
    "    return -1\n",
    "\n",
    "print(ricercaSequenziale([3, 5, 10, 4, 9], 5))"
   ]
  },
  {
   "cell_type": "code",
   "execution_count": null,
   "metadata": {},
   "outputs": [],
   "source": [
    "#!! dopo aver fatto la list comprehension\n",
    "def quicksort(x):\n",
    "    if(len(x)<=1):\n",
    "        return x\n",
    "    pivot = x[len(x)//2]\n",
    "    left = [e for e in x if e<pivot]\n",
    "    middle = [e for e in x if e==pivot]\n",
    "    right = [e for e in x if e>pivot]\n",
    "    return quicksort(left) + middle + quicksort(right) #concatenazione di liste!\n",
    "\n",
    "x = [3,5,10,11,4,9,1]\n",
    "print(x)\n",
    "print(quicksort(x))"
   ]
  },
  {
   "cell_type": "code",
   "execution_count": null,
   "metadata": {},
   "outputs": [],
   "source": [
    "def ricercaBinaria(lista, k):\n",
    "    inf=0                        \n",
    "    sup=len(lista)-1             \n",
    "    while(inf <= sup):\n",
    "        mid=(inf+sup)//2       \n",
    "        if(lista[mid] < k):    \n",
    "            inf=mid+1\n",
    "        elif(lista[mid] > k): \n",
    "            sup=mid-1\n",
    "        else:                     \n",
    "            return mid\n",
    "    return -1 \n",
    "    \n",
    "x = [3,5,10,11,4,9]\n",
    "x.sort()\n",
    "print(x)\n",
    "print(ricercaBinaria(x,11))"
   ]
  },
  {
   "cell_type": "markdown",
   "metadata": {},
   "source": [
    "## Dictionaries"
   ]
  },
  {
   "cell_type": "code",
   "execution_count": null,
   "metadata": {},
   "outputs": [],
   "source": [
    "citta_targhe = dict()\n",
    "citta_targhe[\"Padova\"] = \"PD\"\n",
    "citta_targhe[\"Venezia\"] = \"VE\"\n",
    "citta_targhe[\"Vicenza\"] = \"VI\"\n",
    "print(citta_targhe)"
   ]
  },
  {
   "cell_type": "code",
   "execution_count": null,
   "metadata": {},
   "outputs": [],
   "source": [
    "print(citta_targhe[\"Padova\"])"
   ]
  },
  {
   "cell_type": "code",
   "execution_count": null,
   "metadata": {},
   "outputs": [],
   "source": [
    "keysList = [key for key in citta_targhe]\n",
    "print(keysList)"
   ]
  },
  {
   "cell_type": "code",
   "execution_count": null,
   "metadata": {},
   "outputs": [],
   "source": [
    "del citta_targhe[\"Padova\"]\n",
    "print(citta_targhe)"
   ]
  },
  {
   "cell_type": "markdown",
   "metadata": {},
   "source": [
    "## Sets"
   ]
  },
  {
   "cell_type": "code",
   "execution_count": null,
   "metadata": {},
   "outputs": [],
   "source": [
    "s = set([0,1,2])\n",
    "#s = set([0,1,2,2])\n",
    "print(s)"
   ]
  },
  {
   "cell_type": "code",
   "execution_count": null,
   "metadata": {},
   "outputs": [],
   "source": [
    "l = [\"I\",\"will\",\"pass\",\"Introduction\",\"To\",\"Machine\",\"Learning\"]\n",
    "s = set(l)\n",
    "print(s)"
   ]
  },
  {
   "cell_type": "code",
   "execution_count": null,
   "metadata": {},
   "outputs": [],
   "source": [
    "c = set(['I'])\n",
    "c.add('hopefully')\n",
    "c.add('maybe')\n",
    "print(c)\n",
    "print(c.remove('maybe'))\n",
    "print(c)"
   ]
  },
  {
   "cell_type": "code",
   "execution_count": null,
   "metadata": {},
   "outputs": [],
   "source": [
    "print(s.union(c))\n",
    "print(s.intersection(c))\n",
    "print(s.difference(c))"
   ]
  },
  {
   "cell_type": "code",
   "execution_count": null,
   "metadata": {},
   "outputs": [],
   "source": [
    "x = []\n",
    "y = []\n",
    "x.append(1)\n",
    "x.append(2)\n",
    "x.append(3)\n",
    "y.append(1)\n",
    "X = set(x)\n",
    "Y = set(y)\n",
    "diff = X-set(y)\n",
    "print(diff)"
   ]
  },
  {
   "cell_type": "code",
   "execution_count": null,
   "metadata": {},
   "outputs": [],
   "source": [
    "d = dict()\n",
    "d[30] = set(['Francesco','Marco'])\n",
    "d[26] = set(['Diego'])\n",
    "keys = d.keys()\n",
    "for key in keys:\n",
    "             print(\"studenti con voto = \"+str(key)+\":\")\n",
    "             for elem in d[key]:\n",
    "                 print(elem)"
   ]
  },
  {
   "attachments": {},
   "cell_type": "markdown",
   "metadata": {},
   "source": [
    "## Tuple\n",
    "A tuple is an (immutable) ordered list of values. A tuple is in many ways similar to a list; one of the most important differences is that tuples **can be used as keys** in dictionaries and as **elements of sets**, while lists cannot."
   ]
  },
  {
   "cell_type": "code",
   "execution_count": null,
   "metadata": {},
   "outputs": [],
   "source": [
    "t = (5, 6) #tuple\n",
    "print(t)\n",
    "d = dict()\n",
    "l = [5,6]\n",
    "print(l)\n",
    "#d[l] = 'no'\n",
    "d[t] = 'yes'\n",
    "print(d)\n",
    "#print dt[l]\n",
    "print(d[t])"
   ]
  },
  {
   "cell_type": "code",
   "execution_count": null,
   "metadata": {},
   "outputs": [],
   "source": [
    "# as_integer_ratio function returns a tuple that contains the fraction equivalent to the given parameter\n",
    "x = 0.125\n",
    "print(x.as_integer_ratio())"
   ]
  }
 ],
 "metadata": {
  "kernelspec": {
   "display_name": "Python 3",
   "language": "python",
   "name": "python3"
  },
  "language_info": {
   "codemirror_mode": {
    "name": "ipython",
    "version": 3
   },
   "file_extension": ".py",
   "mimetype": "text/x-python",
   "name": "python",
   "nbconvert_exporter": "python",
   "pygments_lexer": "ipython3",
   "version": "3.9.0"
  },
  "vscode": {
   "interpreter": {
    "hash": "0adefd29cbbecb23a3d8fb044e733de6bb8739828172c16fdef52f6ea2829ccd"
   }
  }
 },
 "nbformat": 4,
 "nbformat_minor": 2
}
