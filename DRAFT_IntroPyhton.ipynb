{
 "cells": [
  {
   "cell_type": "markdown",
   "metadata": {},
   "source": [
    "# Notebook for some fundamentals of Python :) "
   ]
  },
  {
   "attachments": {},
   "cell_type": "markdown",
   "metadata": {},
   "source": [
    "### Comments, Indentation, and Numbers"
   ]
  },
  {
   "cell_type": "code",
   "execution_count": null,
   "metadata": {},
   "outputs": [],
   "source": [
    "# this is an in-line comment\n",
    "x = 30 # this is an in-line comment\n",
    "'''\n",
    "this is a multi-lines comments\n",
    "\n",
    "Happy coding with Pyhton :)\n",
    "\n",
    "'''\n",
    "print(x)"
   ]
  },
  {
   "cell_type": "code",
   "execution_count": null,
   "metadata": {},
   "outputs": [],
   "source": [
    "if x < 50:\n",
    "        x *= 3\n",
    "        print(x)"
   ]
  },
  {
   "cell_type": "code",
   "execution_count": null,
   "metadata": {},
   "outputs": [],
   "source": [
    "if x < 50:\n",
    "    x *= 3\n",
    "print(x)"
   ]
  },
  {
   "cell_type": "code",
   "execution_count": null,
   "metadata": {},
   "outputs": [],
   "source": [
    "x = 5\n",
    "y = 2\n",
    "print(x/y)\n",
    "print(x//y)\n",
    "print(x%y)"
   ]
  },
  {
   "cell_type": "code",
   "execution_count": null,
   "metadata": {},
   "outputs": [],
   "source": [
    "x = 3.\n",
    "y = 2\n",
    "print(x/y)\n",
    "x = 3\n",
    "y = 2.\n",
    "print(x/y)"
   ]
  },
  {
   "cell_type": "markdown",
   "metadata": {},
   "source": [
    "##  If-then-else"
   ]
  },
  {
   "cell_type": "code",
   "execution_count": null,
   "metadata": {},
   "outputs": [],
   "source": [
    "voto = 15\n",
    "if voto > 18:\n",
    "    print(\"voto>18, IntroML superato! :) \")\n",
    "else:\n",
    "    print(\"voto<18, IntroML non superato! :(\")\n",
    "#print(\"Il voto è: \" + str(x))\n",
    "print(\"Il voto è: \" + str(voto))"
   ]
  },
  {
   "cell_type": "code",
   "execution_count": null,
   "metadata": {
    "scrolled": true
   },
   "outputs": [],
   "source": [
    "x = 0.99999\n",
    "if (x > -1.) and (x < 1.):\n",
    "    print(\"x is between -1 and 1 (excluded)\")\n",
    "else:\n",
    "    print(\"x <= -1 or x >= 1\")"
   ]
  },
  {
   "cell_type": "code",
   "execution_count": null,
   "metadata": {},
   "outputs": [],
   "source": [
    "m = \"Intro To ML\"\n",
    "if m != \"ML\":\n",
    "    print(\"value of m: \" + m)\n",
    "else:\n",
    "    print(\"m has value: ML\")"
   ]
  },
  {
   "attachments": {},
   "cell_type": "markdown",
   "metadata": {},
   "source": [
    "### Identity and Membership Operators"
   ]
  },
  {
   "cell_type": "code",
   "execution_count": null,
   "metadata": {},
   "outputs": [],
   "source": [
    "a = [1,2,3]\n",
    "b = [1,2,3]\n",
    "\n",
    "# Identity: is operator verify if a and b points to the same object\n",
    "print(a is b)\n",
    "print(a is not)"
   ]
  },
  {
   "cell_type": "code",
   "execution_count": null,
   "metadata": {},
   "outputs": [],
   "source": [
    "x = 1\n",
    "\n",
    "#Membership: in operator returns True when the object is contained into the list\n",
    "x in a"
   ]
  },
  {
   "cell_type": "markdown",
   "metadata": {},
   "source": [
    "## Lists"
   ]
  },
  {
   "cell_type": "code",
   "execution_count": null,
   "metadata": {},
   "outputs": [],
   "source": [
    "b = [\"I\",\"will\",\"pass\",\"Introduction\",\"To\",\"Machine\",\"Learning\"]\n",
    "print(b[2])"
   ]
  },
  {
   "cell_type": "code",
   "execution_count": null,
   "metadata": {},
   "outputs": [],
   "source": [
    "b = []\n",
    "print(b)\n",
    "# append method adds to the end of the list the given object\n",
    "b.append(\"I\")\n",
    "b.append(\"will\")\n",
    "b.append(\"pass\")\n",
    "b.append(\"Introduction\")\n",
    "b.append(\"To\")\n",
    "b.append(\"Machine\")\n",
    "b.append(\"Learning\")\n",
    "print(b)\n",
    "b.remove(\"will\")\n",
    "print(b)"
   ]
  },
  {
   "cell_type": "code",
   "execution_count": null,
   "metadata": {},
   "outputs": [],
   "source": [
    "# it is possible to have not homogeneous lists\n",
    "b = ['a', 4, 5, 4.6]"
   ]
  },
  {
   "cell_type": "code",
   "execution_count": null,
   "metadata": {},
   "outputs": [],
   "source": [
    "d = [10,9,8,7,6,5,4,3,2,1]\n",
    "print(d[0:20])\n",
    "# the whole list\n",
    "print(d[:])\n",
    "# sublist [1,10[\n",
    "print(d[1:10])\n",
    "# sublist [3,end]\n",
    "print(d[3:])\n",
    "print(d[:7])\n",
    "print(d[:-2])\n",
    "\n",
    "# the whole list with step of 2\n",
    "print(d[::2])\n",
    "\n",
    "# it is possible to assign a list to a sublist\n",
    "d[1:3] = [10,11]"
   ]
  },
  {
   "cell_type": "code",
   "execution_count": null,
   "metadata": {
    "scrolled": false
   },
   "outputs": [],
   "source": [
    "a = [20,2,-6]\n",
    "print(a)\n",
    "dim = len(a)\n",
    "for i in range(dim):\n",
    "    a.remove(a[0])\n",
    "    print(a)"
   ]
  },
  {
   "cell_type": "code",
   "execution_count": null,
   "metadata": {},
   "outputs": [],
   "source": [
    "x = [1,10,100]\n",
    "for elem in x:\n",
    "    print(elem)"
   ]
  },
  {
   "cell_type": "code",
   "execution_count": null,
   "metadata": {},
   "outputs": [],
   "source": [
    "#from platform import python_version\n",
    "#print('Python', python_version())\n",
    "x = 10\n",
    "for t in range(x):\n",
    "    print(t)\n",
    "print(\"Final value of t: \" + str(t))"
   ]
  },
  {
   "attachments": {},
   "cell_type": "markdown",
   "metadata": {},
   "source": [
    "## for loops"
   ]
  },
  {
   "cell_type": "code",
   "execution_count": null,
   "metadata": {},
   "outputs": [],
   "source": [
    "#range function\n",
    "for i in range(10):\n",
    "    #end parameter takes the string to append after the printed one\n",
    "    print(i, end=' ')"
   ]
  },
  {
   "cell_type": "markdown",
   "metadata": {},
   "source": [
    "## Functions"
   ]
  },
  {
   "cell_type": "code",
   "execution_count": null,
   "metadata": {},
   "outputs": [],
   "source": [
    "def f1():\n",
    "    return 1"
   ]
  },
  {
   "cell_type": "code",
   "execution_count": null,
   "metadata": {},
   "outputs": [],
   "source": [
    "def f2():\n",
    "    return 10"
   ]
  },
  {
   "cell_type": "code",
   "execution_count": null,
   "metadata": {},
   "outputs": [],
   "source": [
    "print(f1())"
   ]
  },
  {
   "cell_type": "code",
   "execution_count": null,
   "metadata": {},
   "outputs": [],
   "source": [
    "def sign(value):\n",
    "    if value > 0:\n",
    "        return 1.\n",
    "    elif value < 0:\n",
    "        return -1.\n",
    "    else:\n",
    "        return 0.\n",
    "\n",
    "print(sign(10.2))\n",
    "print(sign(-0.6))\n",
    "print(sign(0))"
   ]
  },
  {
   "cell_type": "code",
   "execution_count": null,
   "metadata": {},
   "outputs": [],
   "source": [
    "def ricercaSequenziale(lista, k): \n",
    "    n=len(lista) \n",
    "    for i in range(n): \n",
    "        if(lista[i] == k): \n",
    "            return i \n",
    "    return -1\n",
    "\n",
    "print(ricercaSequenziale([3,5,10,4,9],5))"
   ]
  },
  {
   "cell_type": "code",
   "execution_count": null,
   "metadata": {},
   "outputs": [],
   "source": [
    "def ricercaBinaria(lista, k):\n",
    "    inf=0                        \n",
    "    sup=len(lista)-1             \n",
    "    while(inf <= sup):\n",
    "        mid=(inf+sup)//2       \n",
    "        if(lista[mid] < k):    \n",
    "            inf=mid+1\n",
    "        elif(lista[mid] > k): \n",
    "            sup=mid-1\n",
    "        else:                     \n",
    "            return mid\n",
    "    return -1 \n",
    "    \n",
    "x = [3,5,10,11,4,9]\n",
    "x.sort()\n",
    "print(x)\n",
    "print(ricercaBinaria(x,11))"
   ]
  },
  {
   "cell_type": "code",
   "execution_count": null,
   "metadata": {},
   "outputs": [],
   "source": [
    "#!! dopo aver fatto la list comprehension\n",
    "\n",
    "def quicksort(x):\n",
    "    if(len(x)<=1):\n",
    "        return x\n",
    "    pivot = x[len(x)//2]\n",
    "    left = [e for e in x if e<pivot]\n",
    "    middle = [e for e in x if e==pivot]\n",
    "    right = [e for e in x if e>pivot]\n",
    "    return quicksort(left) + middle + quicksort(right) #concatenazione di liste!\n",
    "\n",
    "x = [3,5,10,11,4,9,1]\n",
    "print(x)\n",
    "print(quicksort(x))"
   ]
  },
  {
   "cell_type": "markdown",
   "metadata": {},
   "source": [
    "## Dictionaries"
   ]
  },
  {
   "cell_type": "code",
   "execution_count": null,
   "metadata": {},
   "outputs": [],
   "source": [
    "citta_targhe = dict()\n",
    "citta_targhe[\"Padova\"] = \"PD\"\n",
    "citta_targhe[\"Venezia\"] = \"VE\"\n",
    "citta_targhe[\"Vicenza\"] = \"VI\"\n",
    "print(citta_targhe)"
   ]
  },
  {
   "cell_type": "code",
   "execution_count": null,
   "metadata": {},
   "outputs": [],
   "source": [
    "print(citta_targhe[\"Padova\"])"
   ]
  },
  {
   "cell_type": "code",
   "execution_count": null,
   "metadata": {},
   "outputs": [],
   "source": [
    "keysList = [key for key in citta_targhe]\n",
    "print(keysList)"
   ]
  },
  {
   "cell_type": "code",
   "execution_count": null,
   "metadata": {},
   "outputs": [],
   "source": [
    "del citta_targhe[\"Padova\"]\n",
    "print(citta_targhe)"
   ]
  },
  {
   "cell_type": "markdown",
   "metadata": {},
   "source": [
    "## Sets"
   ]
  },
  {
   "cell_type": "code",
   "execution_count": null,
   "metadata": {},
   "outputs": [],
   "source": [
    "s = set([0,1,2])\n",
    "#s = set([0,1,2,2])\n",
    "print(s)"
   ]
  },
  {
   "cell_type": "code",
   "execution_count": null,
   "metadata": {},
   "outputs": [],
   "source": [
    "l = [\"I\",\"will\",\"pass\",\"Introduction\",\"To\",\"Machine\",\"Learning\"]\n",
    "s = set(l)\n",
    "print(s)"
   ]
  },
  {
   "cell_type": "code",
   "execution_count": null,
   "metadata": {},
   "outputs": [],
   "source": [
    "c = set(['I'])\n",
    "c.add('hopefully')\n",
    "c.add('maybe')\n",
    "print(c)\n",
    "print(c.remove('maybe'))\n",
    "print(c)"
   ]
  },
  {
   "cell_type": "code",
   "execution_count": null,
   "metadata": {},
   "outputs": [],
   "source": [
    "print(s.union(c))\n",
    "print(s.intersection(c))\n",
    "print(s.difference(c))"
   ]
  },
  {
   "cell_type": "code",
   "execution_count": null,
   "metadata": {},
   "outputs": [],
   "source": [
    "x = []\n",
    "y = []\n",
    "x.append(1)\n",
    "x.append(2)\n",
    "x.append(3)\n",
    "y.append(1)\n",
    "X = set(x)\n",
    "Y = set(y)\n",
    "diff = X-set(y)\n",
    "print(diff)"
   ]
  },
  {
   "cell_type": "code",
   "execution_count": null,
   "metadata": {},
   "outputs": [],
   "source": [
    "d = dict()\n",
    "d[30] = set(['Francesco','Marco'])\n",
    "d[26] = set(['Diego'])\n",
    "keys = d.keys()\n",
    "for key in keys:\n",
    "             print(\"studenti con voto = \"+str(key)+\":\")\n",
    "             for elem in d[key]:\n",
    "                 print(elem)"
   ]
  },
  {
   "attachments": {},
   "cell_type": "markdown",
   "metadata": {},
   "source": [
    "## Tuple\n",
    "A tuple is an (immutable) ordered list of values. A tuple is in many ways similar to a list; one of the most important differences is that tuples **can be used as keys** in dictionaries and as **elements of sets**, while lists cannot."
   ]
  },
  {
   "cell_type": "code",
   "execution_count": null,
   "metadata": {},
   "outputs": [],
   "source": [
    "t = (5, 6) #tuple\n",
    "print(t)\n",
    "d = dict()\n",
    "l = [5,6]\n",
    "print(l)\n",
    "#d[l] = 'no'\n",
    "d[t] = 'yes'\n",
    "print(d)\n",
    "#print dt[l]\n",
    "print(d[t])"
   ]
  },
  {
   "cell_type": "code",
   "execution_count": null,
   "metadata": {},
   "outputs": [],
   "source": [
    "# as_integer_ratio function returns a tuple that contains the fraction equivalent to the given parameter\n",
    "x = 0.125\n",
    "print(x.as_integer_ratio())"
   ]
  },
  {
   "cell_type": "markdown",
   "metadata": {},
   "source": [
    "## Random numbers "
   ]
  },
  {
   "cell_type": "code",
   "execution_count": null,
   "metadata": {},
   "outputs": [],
   "source": [
    "import random\n",
    "#random number in [0,1)\n",
    "print(random.random())\n",
    "#random real number in [2,6]\n",
    "print(random.uniform(2,6))\n",
    "#random integer number in [2,6]\n",
    "print(random.randint(2,6))"
   ]
  },
  {
   "cell_type": "code",
   "execution_count": null,
   "metadata": {},
   "outputs": [],
   "source": [
    "#one coin flip\n",
    "print(random.randint(0,1))\n",
    "#coin flip n times\n",
    "#fair coin \n",
    "n=100\n",
    "l = random.choices(range(0,2), k=n)\n",
    "#unfair coin \n",
    "#l = random.choices(range(0,2), [0.2,0.8], k=n)\n",
    "print(sum(l)/n)"
   ]
  },
  {
   "cell_type": "code",
   "execution_count": null,
   "metadata": {},
   "outputs": [],
   "source": [
    "#die rolling one time\n",
    "print(random.randint(1,6))\n",
    "\n",
    "#die rolling n times\n",
    "n=10000\n",
    "#fair die\n",
    "l = random.choices(range(1,7), k=n)\n",
    "#unfair die\n",
    "#l = random.choices(range(1,7),weights=[0.05,0.05,0.4,0.4,0.05,0.05], k=n)\n",
    "#print(l)\n",
    "n_3 = 0\n",
    "for v in l:\n",
    "    if(v==3):\n",
    "        n_3 += 1 \n",
    "print(n_3/n*100) #it will be around 16%\n",
    "#using list comprehensions\n",
    "n_3 = sum([v/3 for v in l if(v==3)])\n",
    "print(n_3/n*100) #it will be around 16%\n"
   ]
  },
  {
   "cell_type": "markdown",
   "metadata": {},
   "source": [
    "## Arrays in numpy"
   ]
  },
  {
   "cell_type": "code",
   "execution_count": null,
   "metadata": {},
   "outputs": [],
   "source": [
    "import numpy as np\n",
    "#create vector given values in it\n",
    "a = np.array([1, 2, 3])\n",
    "print(a)\n",
    "print(a[1])\n",
    "print(a.shape)\n",
    "print(np.matrix(a))\n",
    "print(\"-----\")\n",
    "#create matrix of 0's of given size\n",
    "b = np.ones((3,1))\n",
    "print(b)\n",
    "print(b.shape)\n",
    "b = b*3\n",
    "print(b)\n",
    "print(\"-----\")\n",
    "#create matrix of 1's of given size\n",
    "c = np.ones((2,3))\n",
    "print(c)\n",
    "print(\"-----\")\n",
    "#create identity matrix of size n\n",
    "d = np.eye(4)\n",
    "print(d)\n",
    "print(\"-----\")\n",
    "#random number in [0,1)\n",
    "print(np.random.random())\n",
    "print(\"-----\")\n",
    "#random integer number in [1,6]\n",
    "print(np.random.randint(1,6))\n",
    "print(\"-----\")\n",
    "#create random matrix (values in [0,9]) of given size 2x4\n",
    "e = np.random.randint(0,9,(2,4))\n",
    "print(e)\n",
    "print(e[0][1])"
   ]
  },
  {
   "cell_type": "code",
   "execution_count": null,
   "metadata": {},
   "outputs": [],
   "source": [
    "l = np.random.randint(0,9,(1,4)).tolist()[0]\n",
    "print(l)\n",
    "l = [r for r in list(np.random.randint(0,9,(1,4)))]\n",
    "print(l)"
   ]
  },
  {
   "cell_type": "markdown",
   "metadata": {},
   "source": [
    "## Arrays indexing in numpy"
   ]
  },
  {
   "cell_type": "code",
   "execution_count": null,
   "metadata": {},
   "outputs": [],
   "source": [
    "print(e[:1,:])\n",
    "print(e[:1])"
   ]
  },
  {
   "cell_type": "code",
   "execution_count": null,
   "metadata": {},
   "outputs": [],
   "source": [
    "print(e[:,0:4])"
   ]
  },
  {
   "cell_type": "code",
   "execution_count": null,
   "metadata": {},
   "outputs": [],
   "source": [
    "print(e[:,1:1])"
   ]
  },
  {
   "cell_type": "code",
   "execution_count": null,
   "metadata": {},
   "outputs": [],
   "source": [
    "print(e[:,1:3])"
   ]
  },
  {
   "cell_type": "code",
   "execution_count": null,
   "metadata": {},
   "outputs": [],
   "source": [
    "print(e[:,1:-1])"
   ]
  },
  {
   "cell_type": "code",
   "execution_count": null,
   "metadata": {},
   "outputs": [],
   "source": [
    "print(e[0,1:])"
   ]
  },
  {
   "cell_type": "code",
   "execution_count": null,
   "metadata": {},
   "outputs": [],
   "source": [
    "print(e[0,0:])"
   ]
  },
  {
   "cell_type": "markdown",
   "metadata": {},
   "source": [
    "## Some sorting algorithm using numpy arrays"
   ]
  },
  {
   "cell_type": "code",
   "execution_count": null,
   "metadata": {},
   "outputs": [],
   "source": [
    "#selection sort \n",
    "\n",
    "def selection_sort(x):\n",
    "    for i in range(len(x)):\n",
    "        swap = i + np.argmin(x[i:])\n",
    "        #with temporary variable \"temp\"\n",
    "        #temp = x[i]\n",
    "        #x[i] = x[swap]\n",
    "        #x[swap] = temp\n",
    "        #without temporary variable \"temp\", but using tuples (super Python's skills :)\n",
    "        (x[i], x[swap]) = (x[swap], x[i])\n",
    "    return x\n",
    "\n",
    "x = np.array([2, 1, 4, 3, 5])\n",
    "print(x)\n",
    "print(selection_sort(x))"
   ]
  },
  {
   "cell_type": "code",
   "execution_count": null,
   "metadata": {},
   "outputs": [],
   "source": [
    "#bogo sort :)) \n",
    "#homework: try to implement this function using another function that check if x is sorted (without np.any)\n",
    "\n",
    "def bogosort(x):\n",
    "    while np.any(x[:-1] > x[1:]): \n",
    "        np.random.shuffle(x)\n",
    "    return x\n",
    "\n",
    "x = np.array([2, 1, 4, 3, 5])\n",
    "#print(x[:-1])\n",
    "#print(x[1:])\n",
    "#print(x[:-1] > x[1:])\n",
    "print(x)\n",
    "print(bogosort(x))"
   ]
  },
  {
   "cell_type": "markdown",
   "metadata": {},
   "source": [
    "## Reading from file"
   ]
  },
  {
   "cell_type": "code",
   "execution_count": null,
   "metadata": {},
   "outputs": [],
   "source": [
    "file_name = \"data/pima-indians-diabetes.csv\"\n",
    "infile = open(file_name,'r')\n",
    "n_lines = 0\n",
    "for line in infile:\n",
    "    if n_lines <=4:\n",
    "        print(line)\n",
    "    n_lines += 1\n",
    "print(\"Number of lines in file:\", n_lines)\n",
    "#print(type(line))\n",
    "infile.close()"
   ]
  },
  {
   "cell_type": "code",
   "execution_count": null,
   "metadata": {},
   "outputs": [],
   "source": [
    "file_name = \"data/pima-indians-diabetes.csv\"\n",
    "infile = open(file_name,'r')\n",
    "n_lines = 0\n",
    "for line in infile:\n",
    "    if n_lines <=4:\n",
    "        print(\"Line:\\n\"+line)\n",
    "        v = line.split(',')\n",
    "        print(\"List: \"+str(v))\n",
    "        print(\"Elements in list:\")\n",
    "        for i in range(len(v)):\n",
    "            print(v[i].strip())\n",
    "        print(\"\\n\")\n",
    "    n_lines += 1\n",
    "infile.close()"
   ]
  },
  {
   "cell_type": "code",
   "execution_count": null,
   "metadata": {},
   "outputs": [],
   "source": [
    "import csv\n",
    "\n",
    "filename = \"data/pima-indians-diabetes.csv\"\n",
    "\n",
    "lines = csv.reader(open(filename, 'r'))\n",
    "\n",
    "for line in lines:\n",
    "    print(line)"
   ]
  },
  {
   "cell_type": "markdown",
   "metadata": {},
   "source": [
    "## Writing to file"
   ]
  },
  {
   "cell_type": "code",
   "execution_count": null,
   "metadata": {},
   "outputs": [],
   "source": [
    "infile_name = \"data/pima-indians-diabetes.csv\"\n",
    "infile = open(file_name,'r')\n",
    "line_c = 0\n",
    "outfile_name = \"prova.txt\"\n",
    "outfile = open(outfile_name,'w')\n",
    "for line in infile:\n",
    "    if line_c <=4:\n",
    "        outfile.write(\"Line:\\n\"+line+\"\\n\")\n",
    "        v = line.split(',')\n",
    "        outfile.write(\"List: \"+str(v)+\"\\n\")\n",
    "        outfile.write(\"Elements in list:\\n\")\n",
    "        for i in range(len(v)):\n",
    "            outfile.write(v[i].strip()+\"\\n\")\n",
    "        outfile.write(\"\\n\")\n",
    "    line_c += 1\n",
    "infile.close()\n",
    "outfile.close()"
   ]
  },
  {
   "cell_type": "code",
   "execution_count": null,
   "metadata": {},
   "outputs": [],
   "source": []
  }
 ],
 "metadata": {
  "kernelspec": {
   "display_name": "Python 3 (ipykernel)",
   "language": "python",
   "name": "python3"
  },
  "language_info": {
   "codemirror_mode": {
    "name": "ipython",
    "version": 3
   },
   "file_extension": ".py",
   "mimetype": "text/x-python",
   "name": "python",
   "nbconvert_exporter": "python",
   "pygments_lexer": "ipython3",
   "version": "3.9.13"
  }
 },
 "nbformat": 4,
 "nbformat_minor": 2
}
